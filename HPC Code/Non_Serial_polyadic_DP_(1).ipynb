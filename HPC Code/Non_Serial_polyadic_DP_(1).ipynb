{
  "nbformat": 4,
  "nbformat_minor": 0,
  "metadata": {
    "colab": {
      "provenance": [],
      "gpuType": "T4"
    },
    "kernelspec": {
      "name": "python3",
      "display_name": "Python 3"
    },
    "language_info": {
      "name": "python"
    },
    "accelerator": "GPU"
  },
  "cells": [
    {
      "cell_type": "code",
      "execution_count": 1,
      "metadata": {
        "colab": {
          "base_uri": "https://localhost:8080/"
        },
        "id": "bQ2s_IkQq3yt",
        "outputId": "41daf57e-157c-4b5d-f3c8-e615c2161ab6"
      },
      "outputs": [
        {
          "output_type": "stream",
          "name": "stdout",
          "text": [
            "Writing dynamic.cu\n"
          ]
        }
      ],
      "source": [
        "%%writefile dynamic.cu\n",
        "#include <iostream>\n",
        "\n",
        "using namespace std;\n",
        "\n",
        "// there are four nodes in example graph (graph is 1-based)\n",
        "const int n = 4;\n",
        "// give appropriate maximum to avoid overflow\n",
        "const int MAX = 1000000;\n",
        "\n",
        "// dist[i][j] represents shortest distance to go from i to j\n",
        "// this matrix can be calculated for any given graph using\n",
        "// all-pair shortest path algorithms\n",
        "int dist[n + 1][n + 1] = {\n",
        "\t{ 0, 0, 0, 0, 0 }, { 0, 0, 10, 15, 20 },\n",
        "\t{ 0, 10, 0, 25, 25 }, { 0, 15, 25, 0, 30 },\n",
        "\t{ 0, 20, 25, 30, 0 },\n",
        "};\n",
        "\n",
        "// memoization for top down recursion\n",
        "int memo[n + 1][1 << (n + 1)];\n",
        "\n",
        "int fun(int i, int mask)\n",
        "{\n",
        "\t// base case\n",
        "\t// if only ith bit and 1st bit is set in our mask,\n",
        "\t// it implies we have visited all other nodes already\n",
        "\tif (mask == ((1 << i) | 3))\n",
        "\t\treturn dist[1][i];\n",
        "\t// memoization\n",
        "\tif (memo[i][mask] != 0)\n",
        "\t\treturn memo[i][mask];\n",
        "\n",
        "\tint res = MAX; // result of this sub-problem\n",
        "\n",
        "\t// we have to travel all nodes j in mask and end the\n",
        "\t// path at ith node so for every node j in mask,\n",
        "\t// recursively calculate cost of travelling all nodes in\n",
        "\t// mask except i and then travel back from node j to\n",
        "\t// node i taking the shortest path take the minimum of\n",
        "\t// all possible j nodes\n",
        "\n",
        "\tfor (int j = 1; j <= n; j++)\n",
        "\t\tif ((mask & (1 << j)) && j != i && j != 1)\n",
        "\t\t\tres = std::min(res, fun(j, mask & (~(1 << i)))\n",
        "\t\t\t\t\t\t\t\t\t+ dist[j][i]);\n",
        "\treturn memo[i][mask] = res;\n",
        "}\n",
        "// Driver program to test above logic\n",
        "int main()\n",
        "{\n",
        "\tint ans = MAX;\n",
        "\tfor (int i = 1; i <= n; i++)\n",
        "\t\t// try to go from node 1 visiting all nodes in\n",
        "\t\t// between to i then return from i taking the\n",
        "\t\t// shortest route to 1\n",
        "\t\tans = std::min(ans, fun(i, (1 << (n + 1)) - 1)\n",
        "\t\t\t\t\t\t\t\t+ dist[i][1]);\n",
        "\n",
        "\tprintf(\"The cost of most efficient tour = %d\", ans);\n",
        "\n",
        "\treturn 0;\n",
        "}\n",
        "\n",
        "\n"
      ]
    },
    {
      "cell_type": "code",
      "source": [
        "!nvcc dynamic.cu -o out"
      ],
      "metadata": {
        "id": "RguesQvsrPGB"
      },
      "execution_count": 2,
      "outputs": []
    },
    {
      "cell_type": "code",
      "source": [
        "!./out"
      ],
      "metadata": {
        "colab": {
          "base_uri": "https://localhost:8080/"
        },
        "id": "b9HBeLdTrZ72",
        "outputId": "69e1c643-d05c-4085-ea13-58bcf9331452"
      },
      "execution_count": null,
      "outputs": [
        {
          "output_type": "stream",
          "name": "stdout",
          "text": [
            "The cost of most efficient tour = 80"
          ]
        }
      ]
    },
    {
      "cell_type": "code",
      "source": [],
      "metadata": {
        "id": "yOBgY8QTrdoZ"
      },
      "execution_count": null,
      "outputs": []
    }
  ]
}