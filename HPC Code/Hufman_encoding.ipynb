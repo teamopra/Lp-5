{
  "nbformat": 4,
  "nbformat_minor": 0,
  "metadata": {
    "colab": {
      "provenance": [],
      "gpuType": "T4"
    },
    "kernelspec": {
      "name": "python3",
      "display_name": "Python 3"
    },
    "language_info": {
      "name": "python"
    },
    "accelerator": "GPU"
  },
  "cells": [
    {
      "cell_type": "code",
      "execution_count": 1,
      "metadata": {
        "colab": {
          "base_uri": "https://localhost:8080/"
        },
        "id": "iLEzyPvvFKwb",
        "outputId": "e994c481-df7a-4bf4-d141-2d086f64ceac"
      },
      "outputs": [
        {
          "output_type": "stream",
          "name": "stdout",
          "text": [
            "nvcc: NVIDIA (R) Cuda compiler driver\n",
            "Copyright (c) 2005-2023 NVIDIA Corporation\n",
            "Built on Tue_Aug_15_22:02:13_PDT_2023\n",
            "Cuda compilation tools, release 12.2, V12.2.140\n",
            "Build cuda_12.2.r12.2/compiler.33191640_0\n"
          ]
        }
      ],
      "source": [
        "!nvcc --version"
      ]
    },
    {
      "cell_type": "code",
      "source": [
        "!pip install git+https://github.com/andreinechaev/nvcc4jupyter.git"
      ],
      "metadata": {
        "colab": {
          "base_uri": "https://localhost:8080/"
        },
        "id": "vi2v_hfAFVmI",
        "outputId": "908cc959-f5e9-48ef-fda8-666343becd74"
      },
      "execution_count": 2,
      "outputs": [
        {
          "output_type": "stream",
          "name": "stdout",
          "text": [
            "Collecting git+https://github.com/andreinechaev/nvcc4jupyter.git\n",
            "  Cloning https://github.com/andreinechaev/nvcc4jupyter.git to /tmp/pip-req-build-a0iuno1_\n",
            "  Running command git clone --filter=blob:none --quiet https://github.com/andreinechaev/nvcc4jupyter.git /tmp/pip-req-build-a0iuno1_\n",
            "  Resolved https://github.com/andreinechaev/nvcc4jupyter.git to commit 5741c522547756ac4bb7a16df32106a15efb8a57\n",
            "  Installing build dependencies ... \u001b[?25l\u001b[?25hdone\n",
            "  Getting requirements to build wheel ... \u001b[?25l\u001b[?25hdone\n",
            "  Preparing metadata (pyproject.toml) ... \u001b[?25l\u001b[?25hdone\n",
            "Building wheels for collected packages: nvcc4jupyter\n",
            "  Building wheel for nvcc4jupyter (pyproject.toml) ... \u001b[?25l\u001b[?25hdone\n",
            "  Created wheel for nvcc4jupyter: filename=nvcc4jupyter-1.2.1-py3-none-any.whl size=10741 sha256=1c43b610d84440f376c57bb0b3d20f87e2433fdb6f06eb98d5fd7c81c461a971\n",
            "  Stored in directory: /tmp/pip-ephem-wheel-cache-swespr8u/wheels/a8/b9/18/23f8ef71ceb0f63297dd1903aedd067e6243a68ea756d6feea\n",
            "Successfully built nvcc4jupyter\n",
            "Installing collected packages: nvcc4jupyter\n",
            "Successfully installed nvcc4jupyter-1.2.1\n"
          ]
        }
      ]
    },
    {
      "cell_type": "code",
      "source": [
        "%load_ext nvcc4jupyter"
      ],
      "metadata": {
        "colab": {
          "base_uri": "https://localhost:8080/"
        },
        "id": "tuC1OW15FWG7",
        "outputId": "2594f8b3-2ed2-4c69-f92c-e9a037b367b4"
      },
      "execution_count": 3,
      "outputs": [
        {
          "output_type": "stream",
          "name": "stdout",
          "text": [
            "Detected platform \"Colab\". Running its setup...\n",
            "Source files will be saved in \"/tmp/tmp6o10h7vl\".\n"
          ]
        }
      ]
    },
    {
      "cell_type": "code",
      "source": [
        "%%cuda\n",
        "#include <stdio.h>\n",
        "#include <stdlib.h>\n",
        "#include <cuda_runtime.h>\n",
        "\n",
        "#define N 256 // Assuming ASCII characters\n",
        "\n",
        "// Data structure for a node in Huffman tree\n",
        "struct Node {\n",
        "    char data;\n",
        "    int frequency;\n",
        "    Node* left;\n",
        "    Node* right;\n",
        "};\n",
        "\n",
        "// CUDA kernel for Huffman encoding\n",
        "__global__ void huffmanEncode(Node* nodes, char* input, int* output, int size) {\n",
        "    int i = blockDim.x * blockIdx.x + threadIdx.x;\n",
        "    if (i < size) {\n",
        "        char symbol = input[i];\n",
        "        // Assuming nodes are already constructed and stored in the nodes array\n",
        "        for (int j = 0; j < N; ++j) {\n",
        "            if (nodes[j].data == symbol) {\n",
        "                // Use output array to store encoded bits (for simplicity)\n",
        "                output[i] = nodes[j].frequency; // Replace with actual encoding logic\n",
        "                break;\n",
        "            }\n",
        "        }\n",
        "    }\n",
        "}\n",
        "\n",
        "// Function to print integer as binary\n",
        "void printBinary(int n) {\n",
        "    for (int i = 7; i >= 0; --i) {\n",
        "        printf(\"%d\", (n >> i) & 1);\n",
        "    }\n",
        "}\n",
        "\n",
        "int main() {\n",
        "    // Input data\n",
        "    char input[] = \"hello world\";\n",
        "    int size = strlen(input);\n",
        "\n",
        "    // Host data structures\n",
        "    Node h_nodes[N];\n",
        "    int* h_output = (int*)malloc(size * sizeof(int));\n",
        "\n",
        "    // Device data structures\n",
        "    Node* d_nodes;\n",
        "    char* d_input;\n",
        "    int* d_output;\n",
        "\n",
        "    // Allocate memory for device data structures\n",
        "    cudaMalloc((void**)&d_nodes, N * sizeof(Node));\n",
        "    cudaMalloc((void**)&d_input, size * sizeof(char));\n",
        "    cudaMalloc((void**)&d_output, size * sizeof(int));\n",
        "\n",
        "    // Initialize host data structures (for simplicity, assuming known frequencies)\n",
        "    for (int i = 0; i < N; ++i) {\n",
        "        h_nodes[i].data = i; // ASCII character\n",
        "        h_nodes[i].frequency = i % 5 + 1; // Assigning some arbitrary frequencies\n",
        "    }\n",
        "\n",
        "    // Copy host data structures to device\n",
        "    cudaMemcpy(d_nodes, h_nodes, N * sizeof(Node), cudaMemcpyHostToDevice);\n",
        "    cudaMemcpy(d_input, input, size * sizeof(char), cudaMemcpyHostToDevice);\n",
        "\n",
        "    // Define grid and block size\n",
        "    dim3 dimGrid(ceil(size / 256.0), 1, 1);\n",
        "    dim3 dimBlock(256, 1, 1);\n",
        "\n",
        "    // Create CUDA events for timing\n",
        "    cudaEvent_t start, stop;\n",
        "    cudaEventCreate(&start);\n",
        "    cudaEventCreate(&stop);\n",
        "\n",
        "    // Record start event\n",
        "    cudaEventRecord(start);\n",
        "\n",
        "    // Launch huffmanEncode kernel on GPU\n",
        "    huffmanEncode<<<dimGrid, dimBlock>>>(d_nodes, d_input, d_output, size);\n",
        "\n",
        "    // Record stop event\n",
        "    cudaEventRecord(stop);\n",
        "    cudaEventSynchronize(stop);\n",
        "\n",
        "    // Copy result from device to host\n",
        "    cudaMemcpy(h_output, d_output, size * sizeof(int), cudaMemcpyDeviceToHost);\n",
        "\n",
        "    // Print encoded bits and character frequencies\n",
        "    printf(\"Character: Integer (Binary)\\n\");\n",
        "    for (int i = 0; i < size; ++i) {\n",
        "        printf(\"%c: %d (\", input[i], h_output[i]);\n",
        "        printBinary(h_output[i]);\n",
        "        printf(\")\\n\");\n",
        "    }\n",
        "\n",
        "    // Free device memory\n",
        "    cudaFree(d_nodes);\n",
        "    cudaFree(d_input);\n",
        "    cudaFree(d_output);\n",
        "\n",
        "    // Free host memory\n",
        "    free(h_output);\n",
        "\n",
        "    // Print additional information\n",
        "    size_t freeMem, totalMem;\n",
        "    cudaMemGetInfo(&freeMem, &totalMem);\n",
        "    printf(\"\\nFree Memory :: %ld\\n\\n\", freeMem);\n",
        "\n",
        "    printf(\"Input File Size :: %d\\n\", size);\n",
        "    printf(\"Output Size :: %d\\n\", size * sizeof(int));\n",
        "    printf(\"Number of Kernels :: 1\\n\");\n",
        "    printf(\"Integer Overflow flag :: 0\\n\\n\");\n",
        "\n",
        "    printf(\"Free Mem: %ld\\n\", freeMem);\n",
        "\n",
        "    cudaError_t err = cudaGetLastError();\n",
        "    if (err != cudaSuccess) {\n",
        "        printf(\"Error Kernel 1 :: %s\\n\", cudaGetErrorString(err));\n",
        "    } else {\n",
        "        printf(\"Error Kernel 1 :: no error\\n\");\n",
        "    }\n",
        "\n",
        "    // Calculate and print the time taken\n",
        "    float milliseconds = 0;\n",
        "    cudaEventElapsedTime(&milliseconds, start, stop);\n",
        "    printf(\"Time taken: %.3f ms\\n\", milliseconds);\n",
        "\n",
        "    // Destroy CUDA events\n",
        "    cudaEventDestroy(start);\n",
        "    cudaEventDestroy(stop);\n",
        "\n",
        "    return 0;\n",
        "}\n",
        "\n"
      ],
      "metadata": {
        "colab": {
          "base_uri": "https://localhost:8080/"
        },
        "id": "ZFSjMJ9OFfRw",
        "outputId": "eda36725-0c8c-40c2-c5ef-2cfa1c0fffce"
      },
      "execution_count": 4,
      "outputs": [
        {
          "output_type": "stream",
          "name": "stdout",
          "text": [
            "Character: Integer (Binary)\n",
            "h: 5 (00000101)\n",
            "e: 2 (00000010)\n",
            "l: 4 (00000100)\n",
            "l: 4 (00000100)\n",
            "o: 2 (00000010)\n",
            " : 3 (00000011)\n",
            "w: 5 (00000101)\n",
            "o: 2 (00000010)\n",
            "r: 5 (00000101)\n",
            "l: 4 (00000100)\n",
            "d: 1 (00000001)\n",
            "\n",
            "Free Memory :: 15727656960\n",
            "\n",
            "Input File Size :: 11\n",
            "Output Size :: 44\n",
            "Number of Kernels :: 1\n",
            "Integer Overflow flag :: 0\n",
            "\n",
            "Free Mem: 15727656960\n",
            "Error Kernel 1 :: no error\n",
            "Time taken: 123.122 ms\n",
            "\n"
          ]
        }
      ]
    },
    {
      "cell_type": "code",
      "source": [],
      "metadata": {
        "id": "DRESVWbKFf79"
      },
      "execution_count": null,
      "outputs": []
    }
  ]
}