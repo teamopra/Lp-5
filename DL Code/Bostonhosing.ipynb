{
 "cells": [
  {
   "cell_type": "code",
   "execution_count": 1,
   "id": "11c38845",
   "metadata": {
    "id": "11c38845"
   },
   "outputs": [],
   "source": [
    "# Importing libraries\n",
    "import numpy as np\n",
    "import pandas as pd\n",
    "import tensorflow as tf\n",
    "from sklearn.model_selection import train_test_split\n",
    "from sklearn.preprocessing import StandardScaler\n",
    "from sklearn.metrics import r2_score\n",
    "import matplotlib.pyplot as plt"
   ]
  },
  {
   "cell_type": "code",
   "execution_count": 2,
   "id": "d47d09fa",
   "metadata": {
    "id": "d47d09fa"
   },
   "outputs": [],
   "source": [
    "# Loading the Boston Housing dataset\n",
    "boston_dataset = pd.read_csv('Boston.csv')\n",
    "boston = pd.DataFrame(boston_dataset, columns=boston_dataset.columns)\n",
    "boston['MEDV'] = boston_dataset['medv']\n",
    "\n",
    "\n"
   ]
  },
  {
   "cell_type": "code",
   "execution_count": 3,
   "id": "8741c5cb",
   "metadata": {
    "id": "8741c5cb",
    "outputId": "d36126d7-24e6-4491-9f49-e0ba9ad6e8f3"
   },
   "outputs": [
    {
     "data": {
      "text/plain": [
       "(506, 16)"
      ]
     },
     "execution_count": 3,
     "metadata": {},
     "output_type": "execute_result"
    }
   ],
   "source": [
    "boston_dataset.shape"
   ]
  },
  {
   "cell_type": "code",
   "execution_count": 4,
   "id": "f4074ae2",
   "metadata": {
    "id": "f4074ae2",
    "outputId": "a2c33cdf-e556-4627-fe27-345625543d0e"
   },
   "outputs": [
    {
     "name": "stdout",
     "output_type": "stream",
     "text": [
      "   Unnamed: 0     crim    zn  indus  chas    nox     rm   age     dis  rad  \\\n",
      "0           1  0.00632  18.0   2.31     0  0.538  6.575  65.2  4.0900    1   \n",
      "1           2  0.02731   0.0   7.07     0  0.469  6.421  78.9  4.9671    2   \n",
      "2           3  0.02729   0.0   7.07     0  0.469  7.185  61.1  4.9671    2   \n",
      "3           4  0.03237   0.0   2.18     0  0.458  6.998  45.8  6.0622    3   \n",
      "4           5  0.06905   0.0   2.18     0  0.458  7.147  54.2  6.0622    3   \n",
      "\n",
      "   tax  ptratio   black  lstat  medv  MEDV  \n",
      "0  296     15.3  396.90   4.98  24.0  24.0  \n",
      "1  242     17.8  396.90   9.14  21.6  21.6  \n",
      "2  242     17.8  392.83   4.03  34.7  34.7  \n",
      "3  222     18.7  394.63   2.94  33.4  33.4  \n",
      "4  222     18.7  396.90   5.33  36.2  36.2  \n"
     ]
    }
   ],
   "source": [
    "print(boston_dataset.head(5))"
   ]
  },
  {
   "cell_type": "code",
   "execution_count": 5,
   "id": "759e4ecf",
   "metadata": {
    "id": "759e4ecf",
    "outputId": "f3d2ca30-bf28-4142-f74b-f5a8f6765321"
   },
   "outputs": [
    {
     "name": "stdout",
     "output_type": "stream",
     "text": [
      "(506, 16)\n"
     ]
    }
   ],
   "source": [
    "print(np.shape(boston_dataset))"
   ]
  },
  {
   "cell_type": "code",
   "execution_count": 6,
   "id": "9914687f",
   "metadata": {
    "id": "9914687f",
    "outputId": "d722321f-8dba-4a83-8470-50ea7f759e89"
   },
   "outputs": [
    {
     "name": "stdout",
     "output_type": "stream",
     "text": [
      "       Unnamed: 0        crim          zn       indus        chas         nox  \\\n",
      "count  506.000000  506.000000  506.000000  506.000000  506.000000  506.000000   \n",
      "mean   253.500000    3.613524   11.363636   11.136779    0.069170    0.554695   \n",
      "std    146.213884    8.601545   23.322453    6.860353    0.253994    0.115878   \n",
      "min      1.000000    0.006320    0.000000    0.460000    0.000000    0.385000   \n",
      "25%    127.250000    0.082045    0.000000    5.190000    0.000000    0.449000   \n",
      "50%    253.500000    0.256510    0.000000    9.690000    0.000000    0.538000   \n",
      "75%    379.750000    3.677083   12.500000   18.100000    0.000000    0.624000   \n",
      "max    506.000000   88.976200  100.000000   27.740000    1.000000    0.871000   \n",
      "\n",
      "               rm         age         dis         rad         tax     ptratio  \\\n",
      "count  506.000000  506.000000  506.000000  506.000000  506.000000  506.000000   \n",
      "mean     6.284634   68.574901    3.795043    9.549407  408.237154   18.455534   \n",
      "std      0.702617   28.148861    2.105710    8.707259  168.537116    2.164946   \n",
      "min      3.561000    2.900000    1.129600    1.000000  187.000000   12.600000   \n",
      "25%      5.885500   45.025000    2.100175    4.000000  279.000000   17.400000   \n",
      "50%      6.208500   77.500000    3.207450    5.000000  330.000000   19.050000   \n",
      "75%      6.623500   94.075000    5.188425   24.000000  666.000000   20.200000   \n",
      "max      8.780000  100.000000   12.126500   24.000000  711.000000   22.000000   \n",
      "\n",
      "            black       lstat        medv        MEDV  \n",
      "count  506.000000  506.000000  506.000000  506.000000  \n",
      "mean   356.674032   12.653063   22.532806   22.532806  \n",
      "std     91.294864    7.141062    9.197104    9.197104  \n",
      "min      0.320000    1.730000    5.000000    5.000000  \n",
      "25%    375.377500    6.950000   17.025000   17.025000  \n",
      "50%    391.440000   11.360000   21.200000   21.200000  \n",
      "75%    396.225000   16.955000   25.000000   25.000000  \n",
      "max    396.900000   37.970000   50.000000   50.000000  \n"
     ]
    }
   ],
   "source": [
    "print(boston_dataset.describe())"
   ]
  },
  {
   "cell_type": "code",
   "execution_count": 7,
   "id": "22985c99",
   "metadata": {
    "id": "22985c99"
   },
   "outputs": [],
   "source": [
    "# Split the data into training and testing sets\n",
    "X = boston.drop('MEDV', axis=1)\n",
    "Y = boston['MEDV']\n",
    "X_train, X_test, Y_train, Y_test = train_test_split(X, Y, test_size=0.2, random_state=1)"
   ]
  },
  {
   "cell_type": "code",
   "execution_count": 8,
   "id": "6d3c93bb",
   "metadata": {
    "id": "6d3c93bb"
   },
   "outputs": [],
   "source": [
    "\n",
    "\n",
    "# Scale the data\n",
    "scaler = StandardScaler()\n",
    "X_train_scaled = scaler.fit_transform(X_train)\n",
    "X_test_scaled = scaler.transform(X_test)"
   ]
  },
  {
   "cell_type": "code",
   "execution_count": 9,
   "id": "6d168276",
   "metadata": {
    "id": "6d168276"
   },
   "outputs": [],
   "source": [
    "# Define the model\n",
    "model = tf.keras.models.Sequential([\n",
    "  tf.keras.layers.Dense(64, activation='relu', input_shape=(X_train.shape[1],)),\n",
    "  tf.keras.layers.Dense(64, activation='relu'),\n",
    "  tf.keras.layers.Dense(1)\n",
    "])"
   ]
  },
  {
   "cell_type": "code",
   "execution_count": 10,
   "id": "67bd8062",
   "metadata": {
    "id": "67bd8062"
   },
   "outputs": [],
   "source": [
    "# Compile the model\n",
    "model.compile(optimizer='adam', loss='mse')"
   ]
  },
  {
   "cell_type": "code",
   "execution_count": 11,
   "id": "1a23efb0",
   "metadata": {
    "id": "1a23efb0",
    "outputId": "36bcdf98-e6a8-44db-dfe3-1adc44e6f35f"
   },
   "outputs": [
    {
     "name": "stdout",
     "output_type": "stream",
     "text": [
      "Epoch 1/100\n",
      "13/13 [==============================] - 1s 12ms/step - loss: 557.1237 - val_loss: 540.7253\n",
      "Epoch 2/100\n",
      "13/13 [==============================] - 0s 4ms/step - loss: 487.3948 - val_loss: 460.7224\n",
      "Epoch 3/100\n",
      "13/13 [==============================] - 0s 4ms/step - loss: 398.4923 - val_loss: 359.7890\n",
      "Epoch 4/100\n",
      "13/13 [==============================] - 0s 3ms/step - loss: 288.8984 - val_loss: 238.6462\n",
      "Epoch 5/100\n",
      "13/13 [==============================] - 0s 3ms/step - loss: 167.0558 - val_loss: 123.6224\n",
      "Epoch 6/100\n",
      "13/13 [==============================] - 0s 4ms/step - loss: 75.2662 - val_loss: 53.3213\n",
      "Epoch 7/100\n",
      "13/13 [==============================] - 0s 5ms/step - loss: 38.6047 - val_loss: 32.7339\n",
      "Epoch 8/100\n",
      "13/13 [==============================] - 0s 4ms/step - loss: 28.6939 - val_loss: 24.0265\n",
      "Epoch 9/100\n",
      "13/13 [==============================] - 0s 4ms/step - loss: 21.0999 - val_loss: 18.8477\n",
      "Epoch 10/100\n",
      "13/13 [==============================] - 0s 3ms/step - loss: 16.6217 - val_loss: 16.0128\n",
      "Epoch 11/100\n",
      "13/13 [==============================] - 0s 4ms/step - loss: 14.1125 - val_loss: 13.8287\n",
      "Epoch 12/100\n",
      "13/13 [==============================] - 0s 3ms/step - loss: 12.2873 - val_loss: 12.3833\n",
      "Epoch 13/100\n",
      "13/13 [==============================] - 0s 4ms/step - loss: 10.8874 - val_loss: 11.2321\n",
      "Epoch 14/100\n",
      "13/13 [==============================] - 0s 4ms/step - loss: 9.8489 - val_loss: 10.6073\n",
      "Epoch 15/100\n",
      "13/13 [==============================] - 0s 4ms/step - loss: 8.9598 - val_loss: 9.8971\n",
      "Epoch 16/100\n",
      "13/13 [==============================] - 0s 4ms/step - loss: 8.3243 - val_loss: 9.2643\n",
      "Epoch 17/100\n",
      "13/13 [==============================] - 0s 4ms/step - loss: 7.7405 - val_loss: 8.8525\n",
      "Epoch 18/100\n",
      "13/13 [==============================] - 0s 4ms/step - loss: 7.2872 - val_loss: 8.3941\n",
      "Epoch 19/100\n",
      "13/13 [==============================] - 0s 4ms/step - loss: 6.8493 - val_loss: 7.9668\n",
      "Epoch 20/100\n",
      "13/13 [==============================] - 0s 4ms/step - loss: 6.4928 - val_loss: 7.6231\n",
      "Epoch 21/100\n",
      "13/13 [==============================] - 0s 4ms/step - loss: 6.2008 - val_loss: 7.2312\n",
      "Epoch 22/100\n",
      "13/13 [==============================] - 0s 4ms/step - loss: 5.9388 - val_loss: 6.9377\n",
      "Epoch 23/100\n",
      "13/13 [==============================] - 0s 4ms/step - loss: 5.6826 - val_loss: 6.7985\n",
      "Epoch 24/100\n",
      "13/13 [==============================] - 0s 3ms/step - loss: 5.4564 - val_loss: 6.5166\n",
      "Epoch 25/100\n",
      "13/13 [==============================] - 0s 4ms/step - loss: 5.2633 - val_loss: 6.2919\n",
      "Epoch 26/100\n",
      "13/13 [==============================] - 0s 4ms/step - loss: 5.0615 - val_loss: 6.0285\n",
      "Epoch 27/100\n",
      "13/13 [==============================] - 0s 4ms/step - loss: 4.8850 - val_loss: 5.9207\n",
      "Epoch 28/100\n",
      "13/13 [==============================] - 0s 4ms/step - loss: 4.7100 - val_loss: 5.6789\n",
      "Epoch 29/100\n",
      "13/13 [==============================] - 0s 4ms/step - loss: 4.5459 - val_loss: 5.5042\n",
      "Epoch 30/100\n",
      "13/13 [==============================] - 0s 5ms/step - loss: 4.4029 - val_loss: 5.3744\n",
      "Epoch 31/100\n",
      "13/13 [==============================] - 0s 4ms/step - loss: 4.2682 - val_loss: 5.2050\n",
      "Epoch 32/100\n",
      "13/13 [==============================] - 0s 4ms/step - loss: 4.1483 - val_loss: 5.0414\n",
      "Epoch 33/100\n",
      "13/13 [==============================] - 0s 7ms/step - loss: 4.0212 - val_loss: 4.9287\n",
      "Epoch 34/100\n",
      "13/13 [==============================] - 0s 9ms/step - loss: 3.9071 - val_loss: 4.8177\n",
      "Epoch 35/100\n",
      "13/13 [==============================] - 0s 6ms/step - loss: 3.7772 - val_loss: 4.6544\n",
      "Epoch 36/100\n",
      "13/13 [==============================] - 0s 5ms/step - loss: 3.6775 - val_loss: 4.5501\n",
      "Epoch 37/100\n",
      "13/13 [==============================] - 0s 4ms/step - loss: 3.5628 - val_loss: 4.4402\n",
      "Epoch 38/100\n",
      "13/13 [==============================] - 0s 3ms/step - loss: 3.4577 - val_loss: 4.2985\n",
      "Epoch 39/100\n",
      "13/13 [==============================] - 0s 4ms/step - loss: 3.3677 - val_loss: 4.1942\n",
      "Epoch 40/100\n",
      "13/13 [==============================] - 0s 4ms/step - loss: 3.2746 - val_loss: 4.0556\n",
      "Epoch 41/100\n",
      "13/13 [==============================] - 0s 8ms/step - loss: 3.1777 - val_loss: 4.0308\n",
      "Epoch 42/100\n",
      "13/13 [==============================] - 0s 7ms/step - loss: 3.0878 - val_loss: 3.8717\n",
      "Epoch 43/100\n",
      "13/13 [==============================] - 0s 6ms/step - loss: 3.0021 - val_loss: 3.7793\n",
      "Epoch 44/100\n",
      "13/13 [==============================] - 0s 5ms/step - loss: 2.9269 - val_loss: 3.7095\n",
      "Epoch 45/100\n",
      "13/13 [==============================] - 0s 4ms/step - loss: 2.8738 - val_loss: 3.5634\n",
      "Epoch 46/100\n",
      "13/13 [==============================] - 0s 4ms/step - loss: 2.7916 - val_loss: 3.5297\n",
      "Epoch 47/100\n",
      "13/13 [==============================] - 0s 4ms/step - loss: 2.7261 - val_loss: 3.4625\n",
      "Epoch 48/100\n",
      "13/13 [==============================] - 0s 5ms/step - loss: 2.6667 - val_loss: 3.3569\n",
      "Epoch 49/100\n",
      "13/13 [==============================] - 0s 8ms/step - loss: 2.5783 - val_loss: 3.2745\n",
      "Epoch 50/100\n",
      "13/13 [==============================] - 0s 7ms/step - loss: 2.5151 - val_loss: 3.2435\n",
      "Epoch 51/100\n",
      "13/13 [==============================] - 0s 6ms/step - loss: 2.4654 - val_loss: 3.1471\n",
      "Epoch 52/100\n",
      "13/13 [==============================] - 0s 4ms/step - loss: 2.3882 - val_loss: 3.0810\n",
      "Epoch 53/100\n",
      "13/13 [==============================] - 0s 4ms/step - loss: 2.3352 - val_loss: 3.0325\n",
      "Epoch 54/100\n",
      "13/13 [==============================] - 0s 5ms/step - loss: 2.2729 - val_loss: 2.9832\n",
      "Epoch 55/100\n",
      "13/13 [==============================] - 0s 4ms/step - loss: 2.2119 - val_loss: 2.9056\n",
      "Epoch 56/100\n",
      "13/13 [==============================] - 0s 3ms/step - loss: 2.1608 - val_loss: 2.8227\n",
      "Epoch 57/100\n",
      "13/13 [==============================] - 0s 3ms/step - loss: 2.1194 - val_loss: 2.8093\n",
      "Epoch 58/100\n",
      "13/13 [==============================] - 0s 3ms/step - loss: 2.0648 - val_loss: 2.7317\n",
      "Epoch 59/100\n",
      "13/13 [==============================] - 0s 3ms/step - loss: 2.0218 - val_loss: 2.6860\n",
      "Epoch 60/100\n",
      "13/13 [==============================] - 0s 3ms/step - loss: 1.9711 - val_loss: 2.6399\n",
      "Epoch 61/100\n",
      "13/13 [==============================] - 0s 3ms/step - loss: 1.9322 - val_loss: 2.5831\n",
      "Epoch 62/100\n",
      "13/13 [==============================] - 0s 3ms/step - loss: 1.8886 - val_loss: 2.5150\n",
      "Epoch 63/100\n",
      "13/13 [==============================] - 0s 4ms/step - loss: 1.8447 - val_loss: 2.4885\n",
      "Epoch 64/100\n",
      "13/13 [==============================] - 0s 3ms/step - loss: 1.8063 - val_loss: 2.4637\n",
      "Epoch 65/100\n",
      "13/13 [==============================] - 0s 3ms/step - loss: 1.7662 - val_loss: 2.4272\n",
      "Epoch 66/100\n",
      "13/13 [==============================] - 0s 3ms/step - loss: 1.7589 - val_loss: 2.3475\n",
      "Epoch 67/100\n",
      "13/13 [==============================] - 0s 3ms/step - loss: 1.7174 - val_loss: 2.3470\n",
      "Epoch 68/100\n",
      "13/13 [==============================] - 0s 3ms/step - loss: 1.6479 - val_loss: 2.3099\n",
      "Epoch 69/100\n",
      "13/13 [==============================] - 0s 3ms/step - loss: 1.6178 - val_loss: 2.2302\n",
      "Epoch 70/100\n",
      "13/13 [==============================] - 0s 3ms/step - loss: 1.5852 - val_loss: 2.2205\n",
      "Epoch 71/100\n",
      "13/13 [==============================] - 0s 4ms/step - loss: 1.5424 - val_loss: 2.1633\n",
      "Epoch 72/100\n",
      "13/13 [==============================] - 0s 3ms/step - loss: 1.5161 - val_loss: 2.1497\n",
      "Epoch 73/100\n",
      "13/13 [==============================] - 0s 4ms/step - loss: 1.4688 - val_loss: 2.0906\n",
      "Epoch 74/100\n",
      "13/13 [==============================] - 0s 3ms/step - loss: 1.4383 - val_loss: 2.0571\n",
      "Epoch 75/100\n",
      "13/13 [==============================] - 0s 3ms/step - loss: 1.4077 - val_loss: 2.0462\n",
      "Epoch 76/100\n",
      "13/13 [==============================] - 0s 3ms/step - loss: 1.4023 - val_loss: 2.0041\n",
      "Epoch 77/100\n",
      "13/13 [==============================] - 0s 3ms/step - loss: 1.3515 - val_loss: 1.9679\n",
      "Epoch 78/100\n",
      "13/13 [==============================] - 0s 4ms/step - loss: 1.3215 - val_loss: 1.9055\n",
      "Epoch 79/100\n",
      "13/13 [==============================] - 0s 6ms/step - loss: 1.3018 - val_loss: 1.9032\n",
      "Epoch 80/100\n",
      "13/13 [==============================] - 0s 3ms/step - loss: 1.2626 - val_loss: 1.8726\n",
      "Epoch 81/100\n",
      "13/13 [==============================] - 0s 4ms/step - loss: 1.2491 - val_loss: 1.8479\n",
      "Epoch 82/100\n"
     ]
    },
    {
     "name": "stdout",
     "output_type": "stream",
     "text": [
      "13/13 [==============================] - 0s 4ms/step - loss: 1.2281 - val_loss: 1.8047\n",
      "Epoch 83/100\n",
      "13/13 [==============================] - 0s 4ms/step - loss: 1.2294 - val_loss: 1.8194\n",
      "Epoch 84/100\n",
      "13/13 [==============================] - 0s 4ms/step - loss: 1.1889 - val_loss: 1.7475\n",
      "Epoch 85/100\n",
      "13/13 [==============================] - 0s 4ms/step - loss: 1.1631 - val_loss: 1.7179\n",
      "Epoch 86/100\n",
      "13/13 [==============================] - 0s 3ms/step - loss: 1.1357 - val_loss: 1.7000\n",
      "Epoch 87/100\n",
      "13/13 [==============================] - 0s 4ms/step - loss: 1.1026 - val_loss: 1.6667\n",
      "Epoch 88/100\n",
      "13/13 [==============================] - 0s 3ms/step - loss: 1.1028 - val_loss: 1.6409\n",
      "Epoch 89/100\n",
      "13/13 [==============================] - 0s 3ms/step - loss: 1.0813 - val_loss: 1.6382\n",
      "Epoch 90/100\n",
      "13/13 [==============================] - 0s 3ms/step - loss: 1.0397 - val_loss: 1.5812\n",
      "Epoch 91/100\n",
      "13/13 [==============================] - 0s 3ms/step - loss: 1.0244 - val_loss: 1.5639\n",
      "Epoch 92/100\n",
      "13/13 [==============================] - 0s 3ms/step - loss: 0.9944 - val_loss: 1.5353\n",
      "Epoch 93/100\n",
      "13/13 [==============================] - 0s 3ms/step - loss: 0.9817 - val_loss: 1.5019\n",
      "Epoch 94/100\n",
      "13/13 [==============================] - 0s 3ms/step - loss: 0.9566 - val_loss: 1.4811\n",
      "Epoch 95/100\n",
      "13/13 [==============================] - 0s 3ms/step - loss: 0.9334 - val_loss: 1.4470\n",
      "Epoch 96/100\n",
      "13/13 [==============================] - 0s 4ms/step - loss: 0.9155 - val_loss: 1.4319\n",
      "Epoch 97/100\n",
      "13/13 [==============================] - 0s 4ms/step - loss: 0.9134 - val_loss: 1.4096\n",
      "Epoch 98/100\n",
      "13/13 [==============================] - 0s 3ms/step - loss: 0.9151 - val_loss: 1.3946\n",
      "Epoch 99/100\n",
      "13/13 [==============================] - 0s 3ms/step - loss: 0.8580 - val_loss: 1.3616\n",
      "Epoch 100/100\n",
      "13/13 [==============================] - 0s 4ms/step - loss: 0.8465 - val_loss: 1.3256\n"
     ]
    }
   ],
   "source": [
    "# Train the model\n",
    "history = model.fit(X_train_scaled, Y_train, validation_data=(X_test_scaled, Y_test), epochs=100)"
   ]
  },
  {
   "cell_type": "code",
   "execution_count": 12,
   "id": "ac3bad58",
   "metadata": {
    "id": "ac3bad58",
    "outputId": "4fde00c9-f548-418c-f416-0e3c5c478f04"
   },
   "outputs": [
    {
     "name": "stdout",
     "output_type": "stream",
     "text": [
      "4/4 [==============================] - 0s 999us/step\n",
      "R^2 score: 0.9865862931637471\n"
     ]
    }
   ],
   "source": [
    "# Evaluate the model\n",
    "Y_pred = model.predict(X_test_scaled)\n",
    "r2 = r2_score(Y_test, Y_pred)\n",
    "print(\"R^2 score:\", r2)\n"
   ]
  },
  {
   "cell_type": "code",
   "execution_count": 13,
   "id": "feeca502",
   "metadata": {
    "id": "feeca502",
    "outputId": "c7446586-11c0-4dd4-d7ac-ccbe6dc63a49",
    "scrolled": true
   },
   "outputs": [
    {
     "name": "stderr",
     "output_type": "stream",
     "text": [
      "C:\\Users\\VIVEK\\anaconda3\\lib\\site-packages\\seaborn\\_decorators.py:36: FutureWarning: Pass the following variables as keyword args: x, y. From version 0.12, the only valid positional argument will be `data`, and passing other arguments without an explicit keyword will result in an error or misinterpretation.\n",
      "  warnings.warn(\n",
      "C:\\Users\\VIVEK\\anaconda3\\lib\\site-packages\\seaborn\\_decorators.py:36: FutureWarning: Pass the following variables as keyword args: x, y. From version 0.12, the only valid positional argument will be `data`, and passing other arguments without an explicit keyword will result in an error or misinterpretation.\n",
      "  warnings.warn(\n"
     ]
    },
    {
     "data": {
      "text/plain": [
       "<AxesSubplot:xlabel='True Values', ylabel='Predicted Values'>"
      ]
     },
     "execution_count": 13,
     "metadata": {},
     "output_type": "execute_result"
    },
    {
     "data": {
      "image/png": "[encoded data removed]",
      "text/plain": [
       "<Figure size 640x480 with 1 Axes>"
      ]
     },
     "metadata": {},
     "output_type": "display_data"
    }
   ],
   "source": [
    "import numpy as np\n",
    "import seaborn as sns\n",
    "\n",
    "# Generate some sample data\n",
    "X = np.random.normal(0, 1, 100)\n",
    "Y = 2 * X + np.random.normal(0, 1, 100)\n",
    "\n",
    "# Fit a linear regression model\n",
    "model = np.polyfit(X, Y, 1)\n",
    "\n",
    "# Make predictions on the training data\n",
    "Y_pred = np.polyval(model, X)\n",
    "\n",
    "# Add axis labels\n",
    "plt.xlabel('True Values')\n",
    "plt.ylabel('Predicted Values')\n",
    "\n",
    "# Create a scatter plot of predicted vs true values\n",
    "sns.scatterplot(np.squeeze(Y), np.squeeze(Y_pred))\n",
    "\n",
    "# Add a diagonal line to show perfect correlation\n",
    "sns.lineplot(np.squeeze(Y), np.squeeze(Y), color='red')\n",
    "\n"
   ]
  },
  {
   "cell_type": "code",
   "execution_count": null,
   "id": "fb610184",
   "metadata": {
    "id": "fb610184"
   },
   "outputs": [],
   "source": []
  }
 ],
 "metadata": {
  "colab": {
   "provenance": []
  },
  "kernelspec": {
   "display_name": "Python 3 (ipykernel)",
   "language": "python",
   "name": "python3"
  },
  "language_info": {
   "codemirror_mode": {
    "name": "ipython",
    "version": 3
   },
   "file_extension": ".py",
   "mimetype": "text/x-python",
   "name": "python",
   "nbconvert_exporter": "python",
   "pygments_lexer": "ipython3",
   "version": "3.9.13"
  }
 },
 "nbformat": 4,
 "nbformat_minor": 5
}
